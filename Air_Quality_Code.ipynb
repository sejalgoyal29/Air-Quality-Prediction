{
  "nbformat": 4,
  "nbformat_minor": 0,
  "metadata": {
    "orig_nbformat": 4,
    "language_info": {
      "name": "python",
      "version": "3.7.4",
      "mimetype": "text/x-python",
      "codemirror_mode": {
        "name": "ipython",
        "version": 3
      },
      "pygments_lexer": "ipython3",
      "nbconvert_exporter": "python",
      "file_extension": ".py"
    },
    "kernelspec": {
      "name": "python3",
      "display_name": "Python 3.7.4 64-bit"
    },
    "interpreter": {
      "hash": "6b5278f08f00bb986519de1854b413b062e63ee69c14a561a45795af76b64930"
    },
    "colab": {
      "name": "Air Quality Code.ipynb",
      "provenance": []
    }
  },
  "cells": [
    {
      "cell_type": "code",
      "metadata": {
        "id": "LjaV-aldvvTu"
      },
      "source": [
        "import numpy as np\n",
        "import pandas as pd"
      ],
      "execution_count": null,
      "outputs": []
    },
    {
      "cell_type": "code",
      "metadata": {
        "id": "tT2yVGMQvvT1"
      },
      "source": [
        "df = pd.read_csv (r\"D:\\Python\\AirQualityUCI.csv\",na_values=-200,na_filter=True)"
      ],
      "execution_count": null,
      "outputs": []
    },
    {
      "cell_type": "code",
      "metadata": {
        "id": "FMCWpZwOvvT1",
        "outputId": "055f07fd-1063-4235-afca-5800499602d2"
      },
      "source": [
        "df.head"
      ],
      "execution_count": null,
      "outputs": [
        {
          "output_type": "execute_result",
          "data": {
            "text/plain": [
              "<bound method NDFrame.head of            Date      Time  CO(GT)  PT08.S1(CO)  NMHC(GT)  C6H6(GT)  \\\n",
              "0     3/10/2004  18:00:00     2.6       1360.0     150.0      11.9   \n",
              "1     3/10/2004  19:00:00     2.0       1292.0     112.0       9.4   \n",
              "2     3/10/2004  20:00:00     2.2       1402.0      88.0       9.0   \n",
              "3     3/10/2004  21:00:00     2.2       1376.0      80.0       9.2   \n",
              "4     3/10/2004  22:00:00     1.6       1272.0      51.0       6.5   \n",
              "...         ...       ...     ...          ...       ...       ...   \n",
              "9466        NaN       NaN     NaN          NaN       NaN       NaN   \n",
              "9467        NaN       NaN     NaN          NaN       NaN       NaN   \n",
              "9468        NaN       NaN     NaN          NaN       NaN       NaN   \n",
              "9469        NaN       NaN     NaN          NaN       NaN       NaN   \n",
              "9470        NaN       NaN     NaN          NaN       NaN       NaN   \n",
              "\n",
              "      PT08.S2(NMHC)  NOx(GT)  PT08.S3(NOx)  NO2(GT)  PT08.S4(NO2)  \\\n",
              "0            1046.0    166.0        1056.0    113.0        1692.0   \n",
              "1             955.0    103.0        1174.0     92.0        1559.0   \n",
              "2             939.0    131.0        1140.0    114.0        1555.0   \n",
              "3             948.0    172.0        1092.0    122.0        1584.0   \n",
              "4             836.0    131.0        1205.0    116.0        1490.0   \n",
              "...             ...      ...           ...      ...           ...   \n",
              "9466            NaN      NaN           NaN      NaN           NaN   \n",
              "9467            NaN      NaN           NaN      NaN           NaN   \n",
              "9468            NaN      NaN           NaN      NaN           NaN   \n",
              "9469            NaN      NaN           NaN      NaN           NaN   \n",
              "9470            NaN      NaN           NaN      NaN           NaN   \n",
              "\n",
              "      PT08.S5(O3)     T    RH      AH  Unnamed: 15  Unnamed: 16  \n",
              "0          1268.0  13.6  48.9  0.7578          NaN          NaN  \n",
              "1           972.0  13.3  47.7  0.7255          NaN          NaN  \n",
              "2          1074.0  11.9  54.0  0.7502          NaN          NaN  \n",
              "3          1203.0  11.0  60.0  0.7867          NaN          NaN  \n",
              "4          1110.0  11.2  59.6  0.7888          NaN          NaN  \n",
              "...           ...   ...   ...     ...          ...          ...  \n",
              "9466          NaN   NaN   NaN     NaN          NaN          NaN  \n",
              "9467          NaN   NaN   NaN     NaN          NaN          NaN  \n",
              "9468          NaN   NaN   NaN     NaN          NaN          NaN  \n",
              "9469          NaN   NaN   NaN     NaN          NaN          NaN  \n",
              "9470          NaN   NaN   NaN     NaN          NaN          NaN  \n",
              "\n",
              "[9471 rows x 17 columns]>"
            ]
          },
          "metadata": {},
          "execution_count": 134
        }
      ]
    },
    {
      "cell_type": "code",
      "metadata": {
        "id": "gaR11a1VvvT2"
      },
      "source": [
        "df=df.drop(['Unnamed: 15'],axis=1)\n",
        "df=df.drop(['Unnamed: 16'],axis=1)\n"
      ],
      "execution_count": null,
      "outputs": []
    },
    {
      "cell_type": "code",
      "metadata": {
        "id": "SFysPvOxvvT3"
      },
      "source": [
        "#we can see that the last rows have mostly none values\n",
        "df.dropna(how='all',inplace=True)\n",
        "df.dropna(thresh=10,axis=0,inplace=True)"
      ],
      "execution_count": null,
      "outputs": []
    },
    {
      "cell_type": "code",
      "metadata": {
        "id": "BMExKohNvvT3",
        "outputId": "a23e07cd-aade-40d6-b34d-d2e6c7864402"
      },
      "source": [
        "df"
      ],
      "execution_count": null,
      "outputs": [
        {
          "output_type": "execute_result",
          "data": {
            "text/html": [
              "<div>\n",
              "<style scoped>\n",
              "    .dataframe tbody tr th:only-of-type {\n",
              "        vertical-align: middle;\n",
              "    }\n",
              "\n",
              "    .dataframe tbody tr th {\n",
              "        vertical-align: top;\n",
              "    }\n",
              "\n",
              "    .dataframe thead th {\n",
              "        text-align: right;\n",
              "    }\n",
              "</style>\n",
              "<table border=\"1\" class=\"dataframe\">\n",
              "  <thead>\n",
              "    <tr style=\"text-align: right;\">\n",
              "      <th></th>\n",
              "      <th>Date</th>\n",
              "      <th>Time</th>\n",
              "      <th>CO(GT)</th>\n",
              "      <th>PT08.S1(CO)</th>\n",
              "      <th>NMHC(GT)</th>\n",
              "      <th>C6H6(GT)</th>\n",
              "      <th>PT08.S2(NMHC)</th>\n",
              "      <th>NOx(GT)</th>\n",
              "      <th>PT08.S3(NOx)</th>\n",
              "      <th>NO2(GT)</th>\n",
              "      <th>PT08.S4(NO2)</th>\n",
              "      <th>PT08.S5(O3)</th>\n",
              "      <th>T</th>\n",
              "      <th>RH</th>\n",
              "      <th>AH</th>\n",
              "    </tr>\n",
              "  </thead>\n",
              "  <tbody>\n",
              "    <tr>\n",
              "      <th>0</th>\n",
              "      <td>3/10/2004</td>\n",
              "      <td>18:00:00</td>\n",
              "      <td>2.6</td>\n",
              "      <td>1360.0</td>\n",
              "      <td>150.0</td>\n",
              "      <td>11.9</td>\n",
              "      <td>1046.0</td>\n",
              "      <td>166.0</td>\n",
              "      <td>1056.0</td>\n",
              "      <td>113.0</td>\n",
              "      <td>1692.0</td>\n",
              "      <td>1268.0</td>\n",
              "      <td>13.6</td>\n",
              "      <td>48.9</td>\n",
              "      <td>0.7578</td>\n",
              "    </tr>\n",
              "    <tr>\n",
              "      <th>1</th>\n",
              "      <td>3/10/2004</td>\n",
              "      <td>19:00:00</td>\n",
              "      <td>2.0</td>\n",
              "      <td>1292.0</td>\n",
              "      <td>112.0</td>\n",
              "      <td>9.4</td>\n",
              "      <td>955.0</td>\n",
              "      <td>103.0</td>\n",
              "      <td>1174.0</td>\n",
              "      <td>92.0</td>\n",
              "      <td>1559.0</td>\n",
              "      <td>972.0</td>\n",
              "      <td>13.3</td>\n",
              "      <td>47.7</td>\n",
              "      <td>0.7255</td>\n",
              "    </tr>\n",
              "    <tr>\n",
              "      <th>2</th>\n",
              "      <td>3/10/2004</td>\n",
              "      <td>20:00:00</td>\n",
              "      <td>2.2</td>\n",
              "      <td>1402.0</td>\n",
              "      <td>88.0</td>\n",
              "      <td>9.0</td>\n",
              "      <td>939.0</td>\n",
              "      <td>131.0</td>\n",
              "      <td>1140.0</td>\n",
              "      <td>114.0</td>\n",
              "      <td>1555.0</td>\n",
              "      <td>1074.0</td>\n",
              "      <td>11.9</td>\n",
              "      <td>54.0</td>\n",
              "      <td>0.7502</td>\n",
              "    </tr>\n",
              "    <tr>\n",
              "      <th>3</th>\n",
              "      <td>3/10/2004</td>\n",
              "      <td>21:00:00</td>\n",
              "      <td>2.2</td>\n",
              "      <td>1376.0</td>\n",
              "      <td>80.0</td>\n",
              "      <td>9.2</td>\n",
              "      <td>948.0</td>\n",
              "      <td>172.0</td>\n",
              "      <td>1092.0</td>\n",
              "      <td>122.0</td>\n",
              "      <td>1584.0</td>\n",
              "      <td>1203.0</td>\n",
              "      <td>11.0</td>\n",
              "      <td>60.0</td>\n",
              "      <td>0.7867</td>\n",
              "    </tr>\n",
              "    <tr>\n",
              "      <th>4</th>\n",
              "      <td>3/10/2004</td>\n",
              "      <td>22:00:00</td>\n",
              "      <td>1.6</td>\n",
              "      <td>1272.0</td>\n",
              "      <td>51.0</td>\n",
              "      <td>6.5</td>\n",
              "      <td>836.0</td>\n",
              "      <td>131.0</td>\n",
              "      <td>1205.0</td>\n",
              "      <td>116.0</td>\n",
              "      <td>1490.0</td>\n",
              "      <td>1110.0</td>\n",
              "      <td>11.2</td>\n",
              "      <td>59.6</td>\n",
              "      <td>0.7888</td>\n",
              "    </tr>\n",
              "    <tr>\n",
              "      <th>...</th>\n",
              "      <td>...</td>\n",
              "      <td>...</td>\n",
              "      <td>...</td>\n",
              "      <td>...</td>\n",
              "      <td>...</td>\n",
              "      <td>...</td>\n",
              "      <td>...</td>\n",
              "      <td>...</td>\n",
              "      <td>...</td>\n",
              "      <td>...</td>\n",
              "      <td>...</td>\n",
              "      <td>...</td>\n",
              "      <td>...</td>\n",
              "      <td>...</td>\n",
              "      <td>...</td>\n",
              "    </tr>\n",
              "    <tr>\n",
              "      <th>9352</th>\n",
              "      <td>4/4/2005</td>\n",
              "      <td>10:00:00</td>\n",
              "      <td>3.1</td>\n",
              "      <td>1314.0</td>\n",
              "      <td>NaN</td>\n",
              "      <td>13.5</td>\n",
              "      <td>1101.0</td>\n",
              "      <td>472.0</td>\n",
              "      <td>539.0</td>\n",
              "      <td>190.0</td>\n",
              "      <td>1374.0</td>\n",
              "      <td>1729.0</td>\n",
              "      <td>21.9</td>\n",
              "      <td>29.3</td>\n",
              "      <td>0.7568</td>\n",
              "    </tr>\n",
              "    <tr>\n",
              "      <th>9353</th>\n",
              "      <td>4/4/2005</td>\n",
              "      <td>11:00:00</td>\n",
              "      <td>2.4</td>\n",
              "      <td>1163.0</td>\n",
              "      <td>NaN</td>\n",
              "      <td>11.4</td>\n",
              "      <td>1027.0</td>\n",
              "      <td>353.0</td>\n",
              "      <td>604.0</td>\n",
              "      <td>179.0</td>\n",
              "      <td>1264.0</td>\n",
              "      <td>1269.0</td>\n",
              "      <td>24.3</td>\n",
              "      <td>23.7</td>\n",
              "      <td>0.7119</td>\n",
              "    </tr>\n",
              "    <tr>\n",
              "      <th>9354</th>\n",
              "      <td>4/4/2005</td>\n",
              "      <td>12:00:00</td>\n",
              "      <td>2.4</td>\n",
              "      <td>1142.0</td>\n",
              "      <td>NaN</td>\n",
              "      <td>12.4</td>\n",
              "      <td>1063.0</td>\n",
              "      <td>293.0</td>\n",
              "      <td>603.0</td>\n",
              "      <td>175.0</td>\n",
              "      <td>1241.0</td>\n",
              "      <td>1092.0</td>\n",
              "      <td>26.9</td>\n",
              "      <td>18.3</td>\n",
              "      <td>0.6406</td>\n",
              "    </tr>\n",
              "    <tr>\n",
              "      <th>9355</th>\n",
              "      <td>4/4/2005</td>\n",
              "      <td>13:00:00</td>\n",
              "      <td>2.1</td>\n",
              "      <td>1003.0</td>\n",
              "      <td>NaN</td>\n",
              "      <td>9.5</td>\n",
              "      <td>961.0</td>\n",
              "      <td>235.0</td>\n",
              "      <td>702.0</td>\n",
              "      <td>156.0</td>\n",
              "      <td>1041.0</td>\n",
              "      <td>770.0</td>\n",
              "      <td>28.3</td>\n",
              "      <td>13.5</td>\n",
              "      <td>0.5139</td>\n",
              "    </tr>\n",
              "    <tr>\n",
              "      <th>9356</th>\n",
              "      <td>4/4/2005</td>\n",
              "      <td>14:00:00</td>\n",
              "      <td>2.2</td>\n",
              "      <td>1071.0</td>\n",
              "      <td>NaN</td>\n",
              "      <td>11.9</td>\n",
              "      <td>1047.0</td>\n",
              "      <td>265.0</td>\n",
              "      <td>654.0</td>\n",
              "      <td>168.0</td>\n",
              "      <td>1129.0</td>\n",
              "      <td>816.0</td>\n",
              "      <td>28.5</td>\n",
              "      <td>13.1</td>\n",
              "      <td>0.5028</td>\n",
              "    </tr>\n",
              "  </tbody>\n",
              "</table>\n",
              "<p>8991 rows × 15 columns</p>\n",
              "</div>"
            ],
            "text/plain": [
              "           Date      Time  CO(GT)  PT08.S1(CO)  NMHC(GT)  C6H6(GT)  \\\n",
              "0     3/10/2004  18:00:00     2.6       1360.0     150.0      11.9   \n",
              "1     3/10/2004  19:00:00     2.0       1292.0     112.0       9.4   \n",
              "2     3/10/2004  20:00:00     2.2       1402.0      88.0       9.0   \n",
              "3     3/10/2004  21:00:00     2.2       1376.0      80.0       9.2   \n",
              "4     3/10/2004  22:00:00     1.6       1272.0      51.0       6.5   \n",
              "...         ...       ...     ...          ...       ...       ...   \n",
              "9352   4/4/2005  10:00:00     3.1       1314.0       NaN      13.5   \n",
              "9353   4/4/2005  11:00:00     2.4       1163.0       NaN      11.4   \n",
              "9354   4/4/2005  12:00:00     2.4       1142.0       NaN      12.4   \n",
              "9355   4/4/2005  13:00:00     2.1       1003.0       NaN       9.5   \n",
              "9356   4/4/2005  14:00:00     2.2       1071.0       NaN      11.9   \n",
              "\n",
              "      PT08.S2(NMHC)  NOx(GT)  PT08.S3(NOx)  NO2(GT)  PT08.S4(NO2)  \\\n",
              "0            1046.0    166.0        1056.0    113.0        1692.0   \n",
              "1             955.0    103.0        1174.0     92.0        1559.0   \n",
              "2             939.0    131.0        1140.0    114.0        1555.0   \n",
              "3             948.0    172.0        1092.0    122.0        1584.0   \n",
              "4             836.0    131.0        1205.0    116.0        1490.0   \n",
              "...             ...      ...           ...      ...           ...   \n",
              "9352         1101.0    472.0         539.0    190.0        1374.0   \n",
              "9353         1027.0    353.0         604.0    179.0        1264.0   \n",
              "9354         1063.0    293.0         603.0    175.0        1241.0   \n",
              "9355          961.0    235.0         702.0    156.0        1041.0   \n",
              "9356         1047.0    265.0         654.0    168.0        1129.0   \n",
              "\n",
              "      PT08.S5(O3)     T    RH      AH  \n",
              "0          1268.0  13.6  48.9  0.7578  \n",
              "1           972.0  13.3  47.7  0.7255  \n",
              "2          1074.0  11.9  54.0  0.7502  \n",
              "3          1203.0  11.0  60.0  0.7867  \n",
              "4          1110.0  11.2  59.6  0.7888  \n",
              "...           ...   ...   ...     ...  \n",
              "9352       1729.0  21.9  29.3  0.7568  \n",
              "9353       1269.0  24.3  23.7  0.7119  \n",
              "9354       1092.0  26.9  18.3  0.6406  \n",
              "9355        770.0  28.3  13.5  0.5139  \n",
              "9356        816.0  28.5  13.1  0.5028  \n",
              "\n",
              "[8991 rows x 15 columns]"
            ]
          },
          "metadata": {},
          "execution_count": 137
        }
      ]
    },
    {
      "cell_type": "code",
      "metadata": {
        "id": "actZupWPvvT4",
        "outputId": "a1c3b96b-66eb-4e96-e23f-3895f28d7be8"
      },
      "source": [
        "df.shape"
      ],
      "execution_count": null,
      "outputs": [
        {
          "output_type": "execute_result",
          "data": {
            "text/plain": [
              "(8991, 15)"
            ]
          },
          "metadata": {},
          "execution_count": 138
        }
      ]
    },
    {
      "cell_type": "code",
      "metadata": {
        "id": "oKN-dElgvvT4",
        "outputId": "ed1b4d03-45b0-4ed5-f56d-932dd0b228c9"
      },
      "source": [
        "df.isnull"
      ],
      "execution_count": null,
      "outputs": [
        {
          "output_type": "execute_result",
          "data": {
            "text/plain": [
              "<bound method DataFrame.isnull of            Date      Time  CO(GT)  PT08.S1(CO)  NMHC(GT)  C6H6(GT)  \\\n",
              "0     3/10/2004  18:00:00     2.6       1360.0     150.0      11.9   \n",
              "1     3/10/2004  19:00:00     2.0       1292.0     112.0       9.4   \n",
              "2     3/10/2004  20:00:00     2.2       1402.0      88.0       9.0   \n",
              "3     3/10/2004  21:00:00     2.2       1376.0      80.0       9.2   \n",
              "4     3/10/2004  22:00:00     1.6       1272.0      51.0       6.5   \n",
              "...         ...       ...     ...          ...       ...       ...   \n",
              "9352   4/4/2005  10:00:00     3.1       1314.0       NaN      13.5   \n",
              "9353   4/4/2005  11:00:00     2.4       1163.0       NaN      11.4   \n",
              "9354   4/4/2005  12:00:00     2.4       1142.0       NaN      12.4   \n",
              "9355   4/4/2005  13:00:00     2.1       1003.0       NaN       9.5   \n",
              "9356   4/4/2005  14:00:00     2.2       1071.0       NaN      11.9   \n",
              "\n",
              "      PT08.S2(NMHC)  NOx(GT)  PT08.S3(NOx)  NO2(GT)  PT08.S4(NO2)  \\\n",
              "0            1046.0    166.0        1056.0    113.0        1692.0   \n",
              "1             955.0    103.0        1174.0     92.0        1559.0   \n",
              "2             939.0    131.0        1140.0    114.0        1555.0   \n",
              "3             948.0    172.0        1092.0    122.0        1584.0   \n",
              "4             836.0    131.0        1205.0    116.0        1490.0   \n",
              "...             ...      ...           ...      ...           ...   \n",
              "9352         1101.0    472.0         539.0    190.0        1374.0   \n",
              "9353         1027.0    353.0         604.0    179.0        1264.0   \n",
              "9354         1063.0    293.0         603.0    175.0        1241.0   \n",
              "9355          961.0    235.0         702.0    156.0        1041.0   \n",
              "9356         1047.0    265.0         654.0    168.0        1129.0   \n",
              "\n",
              "      PT08.S5(O3)     T    RH      AH  \n",
              "0          1268.0  13.6  48.9  0.7578  \n",
              "1           972.0  13.3  47.7  0.7255  \n",
              "2          1074.0  11.9  54.0  0.7502  \n",
              "3          1203.0  11.0  60.0  0.7867  \n",
              "4          1110.0  11.2  59.6  0.7888  \n",
              "...           ...   ...   ...     ...  \n",
              "9352       1729.0  21.9  29.3  0.7568  \n",
              "9353       1269.0  24.3  23.7  0.7119  \n",
              "9354       1092.0  26.9  18.3  0.6406  \n",
              "9355        770.0  28.3  13.5  0.5139  \n",
              "9356        816.0  28.5  13.1  0.5028  \n",
              "\n",
              "[8991 rows x 15 columns]>"
            ]
          },
          "metadata": {},
          "execution_count": 139
        }
      ]
    },
    {
      "cell_type": "code",
      "metadata": {
        "id": "NWUmmu2CvvT5",
        "outputId": "5bc2e2e0-2be3-4893-c2f1-27c7fa82ef4f"
      },
      "source": [
        "df.describe()"
      ],
      "execution_count": null,
      "outputs": [
        {
          "output_type": "execute_result",
          "data": {
            "text/html": [
              "<div>\n",
              "<style scoped>\n",
              "    .dataframe tbody tr th:only-of-type {\n",
              "        vertical-align: middle;\n",
              "    }\n",
              "\n",
              "    .dataframe tbody tr th {\n",
              "        vertical-align: top;\n",
              "    }\n",
              "\n",
              "    .dataframe thead th {\n",
              "        text-align: right;\n",
              "    }\n",
              "</style>\n",
              "<table border=\"1\" class=\"dataframe\">\n",
              "  <thead>\n",
              "    <tr style=\"text-align: right;\">\n",
              "      <th></th>\n",
              "      <th>CO(GT)</th>\n",
              "      <th>PT08.S1(CO)</th>\n",
              "      <th>NMHC(GT)</th>\n",
              "      <th>C6H6(GT)</th>\n",
              "      <th>PT08.S2(NMHC)</th>\n",
              "      <th>NOx(GT)</th>\n",
              "      <th>PT08.S3(NOx)</th>\n",
              "      <th>NO2(GT)</th>\n",
              "      <th>PT08.S4(NO2)</th>\n",
              "      <th>PT08.S5(O3)</th>\n",
              "      <th>T</th>\n",
              "      <th>RH</th>\n",
              "      <th>AH</th>\n",
              "    </tr>\n",
              "  </thead>\n",
              "  <tbody>\n",
              "    <tr>\n",
              "      <th>count</th>\n",
              "      <td>7344.000000</td>\n",
              "      <td>8991.000000</td>\n",
              "      <td>887.000000</td>\n",
              "      <td>8991.000000</td>\n",
              "      <td>8991.000000</td>\n",
              "      <td>7396.000000</td>\n",
              "      <td>8991.000000</td>\n",
              "      <td>7393.000000</td>\n",
              "      <td>8991.000000</td>\n",
              "      <td>8991.000000</td>\n",
              "      <td>8991.000000</td>\n",
              "      <td>8991.000000</td>\n",
              "      <td>8991.000000</td>\n",
              "    </tr>\n",
              "    <tr>\n",
              "      <th>mean</th>\n",
              "      <td>2.129711</td>\n",
              "      <td>1099.833166</td>\n",
              "      <td>218.607666</td>\n",
              "      <td>10.083105</td>\n",
              "      <td>939.153376</td>\n",
              "      <td>242.189292</td>\n",
              "      <td>835.493605</td>\n",
              "      <td>112.145137</td>\n",
              "      <td>1456.264598</td>\n",
              "      <td>1022.906128</td>\n",
              "      <td>18.317829</td>\n",
              "      <td>49.234201</td>\n",
              "      <td>1.025530</td>\n",
              "    </tr>\n",
              "    <tr>\n",
              "      <th>std</th>\n",
              "      <td>1.436472</td>\n",
              "      <td>217.080037</td>\n",
              "      <td>206.615130</td>\n",
              "      <td>7.449820</td>\n",
              "      <td>266.831429</td>\n",
              "      <td>206.312007</td>\n",
              "      <td>256.817320</td>\n",
              "      <td>47.629141</td>\n",
              "      <td>346.206794</td>\n",
              "      <td>398.484288</td>\n",
              "      <td>8.832116</td>\n",
              "      <td>17.316892</td>\n",
              "      <td>0.403813</td>\n",
              "    </tr>\n",
              "    <tr>\n",
              "      <th>min</th>\n",
              "      <td>0.100000</td>\n",
              "      <td>647.000000</td>\n",
              "      <td>7.000000</td>\n",
              "      <td>0.100000</td>\n",
              "      <td>383.000000</td>\n",
              "      <td>2.000000</td>\n",
              "      <td>322.000000</td>\n",
              "      <td>2.000000</td>\n",
              "      <td>551.000000</td>\n",
              "      <td>221.000000</td>\n",
              "      <td>-1.900000</td>\n",
              "      <td>9.200000</td>\n",
              "      <td>0.184700</td>\n",
              "    </tr>\n",
              "    <tr>\n",
              "      <th>25%</th>\n",
              "      <td>1.100000</td>\n",
              "      <td>937.000000</td>\n",
              "      <td>66.000000</td>\n",
              "      <td>4.400000</td>\n",
              "      <td>734.500000</td>\n",
              "      <td>97.000000</td>\n",
              "      <td>658.000000</td>\n",
              "      <td>77.000000</td>\n",
              "      <td>1227.000000</td>\n",
              "      <td>731.500000</td>\n",
              "      <td>11.800000</td>\n",
              "      <td>35.800000</td>\n",
              "      <td>0.736800</td>\n",
              "    </tr>\n",
              "    <tr>\n",
              "      <th>50%</th>\n",
              "      <td>1.800000</td>\n",
              "      <td>1063.000000</td>\n",
              "      <td>145.000000</td>\n",
              "      <td>8.200000</td>\n",
              "      <td>909.000000</td>\n",
              "      <td>178.000000</td>\n",
              "      <td>806.000000</td>\n",
              "      <td>109.000000</td>\n",
              "      <td>1463.000000</td>\n",
              "      <td>963.000000</td>\n",
              "      <td>17.800000</td>\n",
              "      <td>49.600000</td>\n",
              "      <td>0.995400</td>\n",
              "    </tr>\n",
              "    <tr>\n",
              "      <th>75%</th>\n",
              "      <td>2.800000</td>\n",
              "      <td>1231.000000</td>\n",
              "      <td>297.000000</td>\n",
              "      <td>14.000000</td>\n",
              "      <td>1116.000000</td>\n",
              "      <td>321.000000</td>\n",
              "      <td>969.500000</td>\n",
              "      <td>140.000000</td>\n",
              "      <td>1674.000000</td>\n",
              "      <td>1273.500000</td>\n",
              "      <td>24.400000</td>\n",
              "      <td>62.500000</td>\n",
              "      <td>1.313700</td>\n",
              "    </tr>\n",
              "    <tr>\n",
              "      <th>max</th>\n",
              "      <td>11.900000</td>\n",
              "      <td>2040.000000</td>\n",
              "      <td>1189.000000</td>\n",
              "      <td>63.700000</td>\n",
              "      <td>2214.000000</td>\n",
              "      <td>1479.000000</td>\n",
              "      <td>2683.000000</td>\n",
              "      <td>333.000000</td>\n",
              "      <td>2775.000000</td>\n",
              "      <td>2523.000000</td>\n",
              "      <td>44.600000</td>\n",
              "      <td>88.700000</td>\n",
              "      <td>2.231000</td>\n",
              "    </tr>\n",
              "  </tbody>\n",
              "</table>\n",
              "</div>"
            ],
            "text/plain": [
              "            CO(GT)  PT08.S1(CO)     NMHC(GT)     C6H6(GT)  PT08.S2(NMHC)  \\\n",
              "count  7344.000000  8991.000000   887.000000  8991.000000    8991.000000   \n",
              "mean      2.129711  1099.833166   218.607666    10.083105     939.153376   \n",
              "std       1.436472   217.080037   206.615130     7.449820     266.831429   \n",
              "min       0.100000   647.000000     7.000000     0.100000     383.000000   \n",
              "25%       1.100000   937.000000    66.000000     4.400000     734.500000   \n",
              "50%       1.800000  1063.000000   145.000000     8.200000     909.000000   \n",
              "75%       2.800000  1231.000000   297.000000    14.000000    1116.000000   \n",
              "max      11.900000  2040.000000  1189.000000    63.700000    2214.000000   \n",
              "\n",
              "           NOx(GT)  PT08.S3(NOx)      NO2(GT)  PT08.S4(NO2)  PT08.S5(O3)  \\\n",
              "count  7396.000000   8991.000000  7393.000000   8991.000000  8991.000000   \n",
              "mean    242.189292    835.493605   112.145137   1456.264598  1022.906128   \n",
              "std     206.312007    256.817320    47.629141    346.206794   398.484288   \n",
              "min       2.000000    322.000000     2.000000    551.000000   221.000000   \n",
              "25%      97.000000    658.000000    77.000000   1227.000000   731.500000   \n",
              "50%     178.000000    806.000000   109.000000   1463.000000   963.000000   \n",
              "75%     321.000000    969.500000   140.000000   1674.000000  1273.500000   \n",
              "max    1479.000000   2683.000000   333.000000   2775.000000  2523.000000   \n",
              "\n",
              "                 T           RH           AH  \n",
              "count  8991.000000  8991.000000  8991.000000  \n",
              "mean     18.317829    49.234201     1.025530  \n",
              "std       8.832116    17.316892     0.403813  \n",
              "min      -1.900000     9.200000     0.184700  \n",
              "25%      11.800000    35.800000     0.736800  \n",
              "50%      17.800000    49.600000     0.995400  \n",
              "75%      24.400000    62.500000     1.313700  \n",
              "max      44.600000    88.700000     2.231000  "
            ]
          },
          "metadata": {},
          "execution_count": 140
        }
      ]
    },
    {
      "cell_type": "code",
      "metadata": {
        "id": "D1ljP9jqvvT6",
        "outputId": "7516b258-d156-4763-88a5-9038f4a391b0"
      },
      "source": [
        "df.info()"
      ],
      "execution_count": null,
      "outputs": [
        {
          "output_type": "stream",
          "name": "stdout",
          "text": [
            "<class 'pandas.core.frame.DataFrame'>\n",
            "Int64Index: 8991 entries, 0 to 9356\n",
            "Data columns (total 15 columns):\n",
            " #   Column         Non-Null Count  Dtype  \n",
            "---  ------         --------------  -----  \n",
            " 0   Date           8991 non-null   object \n",
            " 1   Time           8991 non-null   object \n",
            " 2   CO(GT)         7344 non-null   float64\n",
            " 3   PT08.S1(CO)    8991 non-null   float64\n",
            " 4   NMHC(GT)       887 non-null    float64\n",
            " 5   C6H6(GT)       8991 non-null   float64\n",
            " 6   PT08.S2(NMHC)  8991 non-null   float64\n",
            " 7   NOx(GT)        7396 non-null   float64\n",
            " 8   PT08.S3(NOx)   8991 non-null   float64\n",
            " 9   NO2(GT)        7393 non-null   float64\n",
            " 10  PT08.S4(NO2)   8991 non-null   float64\n",
            " 11  PT08.S5(O3)    8991 non-null   float64\n",
            " 12  T              8991 non-null   float64\n",
            " 13  RH             8991 non-null   float64\n",
            " 14  AH             8991 non-null   float64\n",
            "dtypes: float64(13), object(2)\n",
            "memory usage: 1.1+ MB\n"
          ]
        }
      ]
    },
    {
      "cell_type": "code",
      "metadata": {
        "id": "ohO2O_6KvvT6"
      },
      "source": [
        ""
      ],
      "execution_count": null,
      "outputs": []
    },
    {
      "cell_type": "code",
      "metadata": {
        "id": "_U8JTJxNvvT6"
      },
      "source": [
        "df[\"hour\"]=df['Time'].apply(lambda x: int(x.split(':')[0]))\n",
        "df=df.drop([\"Time\"],axis=1)"
      ],
      "execution_count": null,
      "outputs": []
    },
    {
      "cell_type": "code",
      "metadata": {
        "id": "RDbOGdJ7vvT7",
        "outputId": "2ded34f6-ea5b-4047-aa10-558da3aaf985"
      },
      "source": [
        "df.shape[0]-df.count()"
      ],
      "execution_count": null,
      "outputs": [
        {
          "output_type": "execute_result",
          "data": {
            "text/plain": [
              "Date                0\n",
              "CO(GT)           1647\n",
              "PT08.S1(CO)         0\n",
              "NMHC(GT)         8104\n",
              "C6H6(GT)            0\n",
              "PT08.S2(NMHC)       0\n",
              "NOx(GT)          1595\n",
              "PT08.S3(NOx)        0\n",
              "NO2(GT)          1598\n",
              "PT08.S4(NO2)        0\n",
              "PT08.S5(O3)         0\n",
              "T                   0\n",
              "RH                  0\n",
              "AH                  0\n",
              "hour                0\n",
              "dtype: int64"
            ]
          },
          "metadata": {},
          "execution_count": 143
        }
      ]
    },
    {
      "cell_type": "code",
      "metadata": {
        "id": "Y6IdH8fdvvT7"
      },
      "source": [
        "ds , ms , ys = [],[],[]\n",
        "\n",
        "for row in df['Date']:\n",
        "    d,m,s=list(map(int, row.split('/')))\n",
        "    ds.append(d)\n",
        "    ms.append(m)\n",
        "    ys.append(s)\n"
      ],
      "execution_count": null,
      "outputs": []
    },
    {
      "cell_type": "code",
      "metadata": {
        "id": "VoWTU4K4vvT8",
        "outputId": "b13ebe15-5acb-4c47-d9d2-8e828792732e"
      },
      "source": [
        "df.info()"
      ],
      "execution_count": null,
      "outputs": [
        {
          "output_type": "stream",
          "name": "stdout",
          "text": [
            "<class 'pandas.core.frame.DataFrame'>\n",
            "Int64Index: 8991 entries, 0 to 9356\n",
            "Data columns (total 15 columns):\n",
            " #   Column         Non-Null Count  Dtype  \n",
            "---  ------         --------------  -----  \n",
            " 0   Date           8991 non-null   object \n",
            " 1   CO(GT)         7344 non-null   float64\n",
            " 2   PT08.S1(CO)    8991 non-null   float64\n",
            " 3   NMHC(GT)       887 non-null    float64\n",
            " 4   C6H6(GT)       8991 non-null   float64\n",
            " 5   PT08.S2(NMHC)  8991 non-null   float64\n",
            " 6   NOx(GT)        7396 non-null   float64\n",
            " 7   PT08.S3(NOx)   8991 non-null   float64\n",
            " 8   NO2(GT)        7393 non-null   float64\n",
            " 9   PT08.S4(NO2)   8991 non-null   float64\n",
            " 10  PT08.S5(O3)    8991 non-null   float64\n",
            " 11  T              8991 non-null   float64\n",
            " 12  RH             8991 non-null   float64\n",
            " 13  AH             8991 non-null   float64\n",
            " 14  hour           8991 non-null   int64  \n",
            "dtypes: float64(13), int64(1), object(1)\n",
            "memory usage: 1.1+ MB\n"
          ]
        }
      ]
    },
    {
      "cell_type": "code",
      "metadata": {
        "id": "owvtWgsDvvT8"
      },
      "source": [
        "df[\"Day\"] = ds\n",
        "df[\"Month\"] = ms\n",
        "df[\"Year\"] = ys\n",
        "df = df.drop(\"Date\", axis=1)"
      ],
      "execution_count": null,
      "outputs": []
    },
    {
      "cell_type": "code",
      "metadata": {
        "id": "_mgJOI8yvvT8"
      },
      "source": [
        ""
      ],
      "execution_count": null,
      "outputs": []
    },
    {
      "cell_type": "code",
      "metadata": {
        "id": "wV8SRMzgvvT8"
      },
      "source": [
        "df['CO(GT)']=df['CO(GT)'].fillna(df.groupby(['Month','hour'])['CO(GT)'].transform('mean'))\n",
        "df['NOx(GT)']=df['NOx(GT)'].fillna(df.groupby(['Month','hour'])['NOx(GT)'].transform('mean'))\n",
        "df['NO2(GT)']=df['NO2(GT)'].fillna(df.groupby(['Month','hour'])['NO2(GT)'].transform('mean'))\n"
      ],
      "execution_count": null,
      "outputs": []
    },
    {
      "cell_type": "code",
      "metadata": {
        "id": "U1zTNy5cvvT9",
        "outputId": "a3d48951-fde4-44d2-9b00-bfb710331239"
      },
      "source": [
        "df=df.drop(['NMHC(GT)'],1)"
      ],
      "execution_count": null,
      "outputs": [
        {
          "output_type": "stream",
          "name": "stderr",
          "text": [
            "C:\\Users\\MY\\AppData\\Roaming\\Python\\Python37\\site-packages\\ipykernel_launcher.py:1: FutureWarning: In a future version of pandas all arguments of DataFrame.drop except for the argument 'labels' will be keyword-only\n",
            "  \"\"\"Entry point for launching an IPython kernel.\n"
          ]
        }
      ]
    },
    {
      "cell_type": "code",
      "metadata": {
        "id": "KxI1T8_ZvvT9"
      },
      "source": [
        "df['CO(GT)']=df['CO(GT)'].fillna(df.groupby(['hour'])['CO(GT)'].transform('mean'))\n",
        "df['NOx(GT)']=df['NOx(GT)'].fillna(df.groupby(['hour'])['NOx(GT)'].transform('mean'))\n",
        "df['NO2(GT)']=df['NO2(GT)'].fillna(df.groupby(['hour'])['NO2(GT)'].transform('mean'))\n"
      ],
      "execution_count": null,
      "outputs": []
    },
    {
      "cell_type": "code",
      "metadata": {
        "id": "KUfeqNm2vvT-"
      },
      "source": [
        "#import pandas_profiling as pp\n",
        "#pp.ProfileReport(df)\n"
      ],
      "execution_count": null,
      "outputs": []
    },
    {
      "cell_type": "code",
      "metadata": {
        "id": "QL_IDNWavvT-"
      },
      "source": [
        "#our data is fully preprocesed\n",
        "#Now we encode our data\n",
        "x=df.drop(['RH'],axis=1)\n",
        "y=df[\"RH\"]"
      ],
      "execution_count": null,
      "outputs": []
    },
    {
      "cell_type": "code",
      "metadata": {
        "id": "53g6SOlvvvT-"
      },
      "source": [
        "from sklearn.preprocessing import StandardScaler\n",
        "ss=StandardScaler()"
      ],
      "execution_count": null,
      "outputs": []
    },
    {
      "cell_type": "code",
      "metadata": {
        "id": "BYvBbYEyvvT-"
      },
      "source": [
        "x_f=ss.fit_transform(x)"
      ],
      "execution_count": null,
      "outputs": []
    },
    {
      "cell_type": "code",
      "metadata": {
        "id": "1kn38tnTvvT-"
      },
      "source": [
        "from sklearn.model_selection import train_test_split"
      ],
      "execution_count": null,
      "outputs": []
    },
    {
      "cell_type": "code",
      "metadata": {
        "id": "bwqpSfklvvT_"
      },
      "source": [
        "X_train, X_test, y_train, y_test=train_test_split(x_f,y,test_size=0.3, random_state=42)"
      ],
      "execution_count": null,
      "outputs": []
    },
    {
      "cell_type": "code",
      "metadata": {
        "id": "1OH5y3Q5vvT_",
        "outputId": "d44121d9-6e32-45ad-9c50-488677d00102"
      },
      "source": [
        "# Implementation Of linear Regression\n",
        "\n",
        "from sklearn.linear_model import LinearRegression\n",
        "from sklearn.metrics import mean_squared_error\n",
        "\n",
        "linear = LinearRegression()\n",
        "\n",
        "linear.fit(X_train,y_train)\n",
        "\n",
        "y_pred_linear=linear.predict(X_test)\n",
        "\n",
        "mse= mean_squared_error(y_test,y_pred_linear)\n",
        "print(f\"error:{mse}\")"
      ],
      "execution_count": null,
      "outputs": [
        {
          "output_type": "stream",
          "name": "stdout",
          "text": [
            "error:34.80582257217045\n"
          ]
        }
      ]
    },
    {
      "cell_type": "code",
      "metadata": {
        "id": "z1ZFWxrvvvUA",
        "outputId": "0dd9acdd-d045-41ee-bfb9-930bdc4fce2b"
      },
      "source": [
        "from sklearn.ensemble import RandomForestRegressor\n",
        "from sklearn.ensemble import GradientBoostingRegressor\n",
        " \n",
        "rf=RandomForestRegressor(n_estimators=200, random_state=43)\n",
        "rf.fit(X_train,y_train)"
      ],
      "execution_count": null,
      "outputs": [
        {
          "output_type": "execute_result",
          "data": {
            "text/plain": [
              "RandomForestRegressor(n_estimators=200, random_state=43)"
            ]
          },
          "metadata": {},
          "execution_count": 158
        }
      ]
    },
    {
      "cell_type": "code",
      "metadata": {
        "id": "tm-1N0fOvvUA",
        "outputId": "b6c28786-f4d4-49d6-8c26-5f5eb6745c63"
      },
      "source": [
        "gb = GradientBoostingRegressor(n_estimators= 200 , random_state=43)\n",
        "gb.fit(X_train,y_train)"
      ],
      "execution_count": null,
      "outputs": [
        {
          "output_type": "execute_result",
          "data": {
            "text/plain": [
              "GradientBoostingRegressor(n_estimators=200, random_state=43)"
            ]
          },
          "metadata": {},
          "execution_count": 159
        }
      ]
    },
    {
      "cell_type": "code",
      "metadata": {
        "id": "n8-ODLbFvvUA"
      },
      "source": [
        "y_pred1 = rf.predict(X_test)\n",
        "y_pred2 = gb.predict(X_test)\n",
        "\n",
        "y_pred = (y_pred1 + y_pred2) / 2 "
      ],
      "execution_count": null,
      "outputs": []
    },
    {
      "cell_type": "code",
      "metadata": {
        "id": "KODyo8-VvvUB",
        "outputId": "d5ee5054-b702-4966-91b9-d5f29f6e46de"
      },
      "source": [
        "rf.score(X_test,y_test)\n"
      ],
      "execution_count": null,
      "outputs": [
        {
          "output_type": "execute_result",
          "data": {
            "text/plain": [
              "0.9982794757585582"
            ]
          },
          "metadata": {},
          "execution_count": 162
        }
      ]
    },
    {
      "cell_type": "code",
      "metadata": {
        "id": "U9emoLTavvUB",
        "outputId": "082ce5d3-5c1e-4eac-c011-186f0ae714b5"
      },
      "source": [
        "gb.score(X_test,y_test)"
      ],
      "execution_count": null,
      "outputs": [
        {
          "output_type": "execute_result",
          "data": {
            "text/plain": [
              "0.9938924059574116"
            ]
          },
          "metadata": {},
          "execution_count": 163
        }
      ]
    },
    {
      "cell_type": "code",
      "metadata": {
        "id": "Ztl-wIQ2vvUB",
        "outputId": "039e7fa7-c5b3-47ef-9e97-f68e36689c81"
      },
      "source": [
        "\n",
        "mean_squared_error(y_pred,y_test)"
      ],
      "execution_count": null,
      "outputs": [
        {
          "output_type": "execute_result",
          "data": {
            "text/plain": [
              "0.7863868344109795"
            ]
          },
          "metadata": {},
          "execution_count": 164
        }
      ]
    },
    {
      "cell_type": "code",
      "metadata": {
        "id": "3MLYkF9lvvUC",
        "outputId": "536e74bd-c0ec-469a-d1fe-5561f947df49"
      },
      "source": [
        "from sklearn.metrics import mean_absolute_error\n",
        "mean_absolute_error(y_pred,y_test)"
      ],
      "execution_count": null,
      "outputs": [
        {
          "output_type": "execute_result",
          "data": {
            "text/plain": [
              "0.6341534644464538"
            ]
          },
          "metadata": {},
          "execution_count": 166
        }
      ]
    },
    {
      "cell_type": "code",
      "metadata": {
        "id": "CqR-LwUTvvUD"
      },
      "source": [
        "#feature selection \n",
        "\n",
        "#ensemble method\n",
        "\n",
        "#hyperparameter selection\n",
        "\n",
        "#and other method for finding better accuracy"
      ],
      "execution_count": null,
      "outputs": []
    }
  ]
}